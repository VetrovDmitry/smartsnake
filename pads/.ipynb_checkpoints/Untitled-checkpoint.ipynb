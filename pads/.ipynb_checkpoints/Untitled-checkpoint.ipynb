{
 "cells": [
  {
   "cell_type": "code",
   "execution_count": 13,
   "metadata": {},
   "outputs": [],
   "source": [
    "import numpy as np\n",
    "import sys\n",
    "import random"
   ]
  },
  {
   "cell_type": "code",
   "execution_count": 14,
   "metadata": {},
   "outputs": [],
   "source": [
    "def sigmoid(x, Derivative=False):\n",
    "    if not Derivative:\n",
    "        return 1 / (1 + np.exp(-x))\n",
    "    else:\n",
    "        out = sigmoid(x)\n",
    "        return out * (1 - out)\n",
    "    \n",
    "    "
   ]
  },
  {
   "cell_type": "code",
   "execution_count": 15,
   "metadata": {},
   "outputs": [],
   "source": [
    "class backPropNN:\n",
    "    numLayers = 0\n",
    "    snape = None\n",
    "    weights = []\n",
    "    \n",
    "    def __init__(self, nunNotes):\n",
    "        self.numLayers = len(numNodes) - 1\n",
    "        self.shape = numNodes\n",
    "        self._layerInput = []\n",
    "        self._layerOutput = []\n",
    "        \n",
    "    \n",
    "    def FP(self, input):\n",
    "        numExamples = input.shape[0]\n",
    "        self._layerInput = []\n",
    "        self._layerOutput = []\n",
    "        \n",
    "    \n",
    "    def backProp(self):\n",
    "        pass"
   ]
  },
  {
   "cell_type": "code",
   "execution_count": 16,
   "metadata": {},
   "outputs": [],
   "source": [
    "A = [1, 2, 3]\n",
    "B = [4, 5, 6]\n",
    "\n",
    "AB = zip(A, B)\n"
   ]
  },
  {
   "cell_type": "code",
   "execution_count": 17,
   "metadata": {},
   "outputs": [],
   "source": [
    "class PartyNN:\n",
    "    def __init__(self, learning_rate=0.1):\n",
    "        self.weights_0_1 = np.random.normal(0.0, 2 ** -0.5, (2, 3))\n",
    "        self.weights_1_2 = np.random.normal(0.0, 1, (1, 2))\n",
    "        self.sigmoid_mapper = np.vectorize(self.sigmoid)\n",
    "        self.learning_rate = np.array([learning_rate])\n",
    "\n",
    "    def sigmoid(self, x):\n",
    "        return 1 / (1 * np.exp(-x))\n",
    "\n",
    "    def predict(self, inputs):\n",
    "        inputs_1 = np.dot(self.weights_0_1, inputs)\n",
    "        outputs_1 = self.sigmoid_mapper(inputs_1)\n",
    "\n",
    "        inputs_2 = np.dot(self.weights_1_2, outputs_1)\n",
    "        outputs_2 = self.sigmoid_mapper(inputs_2)\n",
    "        return outputs_2\n",
    "\n",
    "    def train(self, inputs, expected_predict):\n",
    "        inputs_1 = np.dot(self.weights_0_1, inputs)\n",
    "        outputs_1 = self.sigmoid_mapper(inputs_1)\n",
    "\n",
    "        inputs_2 = np.dot(self.weights_1_2, outputs_1)\n",
    "        outputs_2 = self.sigmoid_mapper(inputs_2)\n",
    "        actual_predict = outputs_2[0]\n",
    "\n",
    "        error_layer_2 = np.array([actual_predict - expected_predict])\n",
    "        gradient_layer_2 = actual_predict * (1 - actual_predict)\n",
    "        weights_delta_layer_2 = error_layer_2 * gradient_layer_2\n",
    "        self.weights_1_2 -= (np.dot(weights_delta_layer_2, outputs_1.reshape(1, len(outputs_1)))) * self.learning_rate\n",
    "\n",
    "        error_layer_1 = weights_delta_layer_2 * self.weights_1_2\n",
    "        gradient_layer_1 = outputs_1 * (1 - outputs_1)\n",
    "        weights_delta_layer_1 = error_layer_1 * gradient_layer_1\n",
    "        self.weights_0_1 -= np.dot(inputs.reshape(len(inputs), 1), weights_delta_layer_1).T * self.learning_rate\n",
    "        "
   ]
  },
  {
   "cell_type": "code",
   "execution_count": 18,
   "metadata": {},
   "outputs": [],
   "source": [
    "def MSE(y, Y):\n",
    "    return np.mean((y-Y)**2)\n"
   ]
  },
  {
   "cell_type": "code",
   "execution_count": 19,
   "metadata": {},
   "outputs": [
    {
     "name": "stdout",
     "output_type": "stream",
     "text": [
      "input_list = [1, 2, 4, 5, 1, 8, 3, 2, 6, 99, 32]. filtered_list = [1, 2, 4, 5, 8, 3, 6, 99, 32]\n"
     ]
    }
   ],
   "source": [
    "input_list = [1, 2, 4, 5, 1, 8, 3, 2, 6, 99, 32]\n",
    "\n",
    "filtered_list = list()\n",
    "\n",
    "for item in input_list:\n",
    "    if item not in filtered_list:\n",
    "        filtered_list.append(item)\n",
    "    \n",
    "\n",
    "print('input_list = {}. filtered_list = {}'.format(input_list, filtered_list))"
   ]
  },
  {
   "cell_type": "code",
   "execution_count": 20,
   "metadata": {},
   "outputs": [],
   "source": [
    "nn = PartyNN()\n",
    "nn.train()"
   ]
  },
  {
   "cell_type": "code",
   "execution_count": null,
   "metadata": {},
   "outputs": [],
   "source": []
  }
 ],
 "metadata": {
  "kernelspec": {
   "display_name": "Python 3",
   "language": "python",
   "name": "python3"
  },
  "language_info": {
   "codemirror_mode": {
    "name": "ipython",
    "version": 3
   },
   "file_extension": ".py",
   "mimetype": "text/x-python",
   "name": "python",
   "nbconvert_exporter": "python",
   "pygments_lexer": "ipython3",
   "version": "3.8.5"
  }
 },
 "nbformat": 4,
 "nbformat_minor": 4
}
