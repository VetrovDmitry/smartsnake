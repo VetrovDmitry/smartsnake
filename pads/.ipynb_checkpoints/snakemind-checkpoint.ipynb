{
 "cells": [
  {
   "cell_type": "code",
   "execution_count": 2,
   "metadata": {},
   "outputs": [],
   "source": [
    "import numpy as np \n"
   ]
  },
  {
   "cell_type": "code",
   "execution_count": 19,
   "metadata": {},
   "outputs": [],
   "source": [
    "train_pack = [[[0, 0, 0], 0],\n",
    "              [[0, 0, 1], 0],\n",
    "              [[0, 1, 0], 0],\n",
    "              [[1, 0, 0], 0]]\n",
    "# train_pack = np.column_stack(train_pack)\n"
   ]
  },
  {
   "cell_type": "code",
   "execution_count": 20,
   "metadata": {},
   "outputs": [],
   "source": [
    "def data_prepare(data):\n",
    "    X = list()\n",
    "    Y = list()\n",
    "    for item in data:\n",
    "        X.append(item[0])\n",
    "        Y.append(item[1])\n",
    "\n",
    "        \n",
    "    X = np.array(X)\n",
    "    Y = np.array(Y)\n",
    "    return (X, Y)\n"
   ]
  },
  {
   "cell_type": "code",
   "execution_count": 21,
   "metadata": {},
   "outputs": [],
   "source": [
    "train_x, train_y = data_prepare(train_pack)"
   ]
  },
  {
   "cell_type": "code",
   "execution_count": 32,
   "metadata": {},
   "outputs": [
    {
     "name": "stdout",
     "output_type": "stream",
     "text": [
      "(4, 3) [[0 0 0]\n",
      " [0 0 1]\n",
      " [0 1 0]\n",
      " [1 0 0]] \n",
      "\n",
      " [0 0 0 0]\n"
     ]
    }
   ],
   "source": [
    "print(train_x.shape, train_x,'\\n\\n', train_y)"
   ]
  },
  {
   "cell_type": "code",
   "execution_count": 46,
   "metadata": {},
   "outputs": [],
   "source": [
    "def sigmoid(x):\n",
    "    return 1 / (1 + np.exp(-x))"
   ]
  },
  {
   "cell_type": "code",
   "execution_count": 49,
   "metadata": {},
   "outputs": [],
   "source": [
    "w_1 = np.random.normal(0.0, 1, (2, 3))\n",
    "w_2 = np.random.normal(0.0, 1, (3, 1))\n",
    "w_3 = np.random.normal(0.0, 1, (1, 2))"
   ]
  },
  {
   "cell_type": "code",
   "execution_count": 58,
   "metadata": {},
   "outputs": [
    {
     "name": "stdout",
     "output_type": "stream",
     "text": [
      "[[-0.37750133]\n",
      " [-1.36293321]]\n",
      "\n",
      " [[0.40672969]\n",
      " [0.20376399]]\n",
      "\n",
      " [[-0.37750133 -1.36293321]]\n",
      "\n",
      " [[-0.37750133]\n",
      " [-1.36293321]]\n"
     ]
    }
   ],
   "source": [
    "output_1 = np.dot(w_1, w_2)\n",
    "print(output_1)\n",
    "output_2 = sigmoid(output_1)\n",
    "print('\\n', output_2)\n",
    "print('\\n', output_1.T)\n",
    "print('\\n', output_1)"
   ]
  },
  {
   "cell_type": "code",
   "execution_count": 56,
   "metadata": {},
   "outputs": [],
   "source": [
    "output_2 = sigmoid(np.dot(output_1.T, output_2))"
   ]
  },
  {
   "cell_type": "code",
   "execution_count": 57,
   "metadata": {},
   "outputs": [
    {
     "name": "stdout",
     "output_type": "stream",
     "text": [
      "[[0.39382604]]\n"
     ]
    }
   ],
   "source": [
    "print(output_2)"
   ]
  },
  {
   "cell_type": "code",
   "execution_count": 71,
   "metadata": {},
   "outputs": [],
   "source": [
    "input_m = [[0, 0, 0],\n",
    "           [1, 1, 1],\n",
    "           [0, 0, 0],\n",
    "           [0, 0, 0]]\n",
    "\n",
    "def fromDownToUp(m):\n",
    "    side_m = [[0, 0, 0],\n",
    "              [0, 0, 0],\n",
    "              [0, 0, 0]]\n",
    "    \n",
    "    d_size = len(m) - len(side_m)\n",
    "    for i, row in enumerate(m):\n",
    "        if i >= d_size:\n",
    "            side_m[i-d_size] = row\n",
    "            \n",
    "    print('before upping\\n')\n",
    "    print(np.array(side_m))\n",
    "    print('\\n')\n",
    "    \n",
    "    for i, row in enumerate(m):\n",
    "        if i < len(side_m):\n",
    "            side_m[i] = row\n",
    "    \n",
    "    print('after upping\\n')\n",
    "    print(np.array(side_m))\n",
    "    print('\\n')"
   ]
  },
  {
   "cell_type": "code",
   "execution_count": 72,
   "metadata": {},
   "outputs": [
    {
     "name": "stdout",
     "output_type": "stream",
     "text": [
      "before upping\n",
      "\n",
      "[[1 1 1]\n",
      " [0 0 0]\n",
      " [0 0 0]]\n",
      "\n",
      "\n",
      "after upping\n",
      "\n",
      "[[0 0 0]\n",
      " [1 1 1]\n",
      " [0 0 0]]\n",
      "\n",
      "\n"
     ]
    }
   ],
   "source": [
    "fromDownToUp(input_m)"
   ]
  },
  {
   "cell_type": "code",
   "execution_count": null,
   "metadata": {},
   "outputs": [],
   "source": []
  }
 ],
 "metadata": {
  "kernelspec": {
   "display_name": "Python 3",
   "language": "python",
   "name": "python3"
  },
  "language_info": {
   "codemirror_mode": {
    "name": "ipython",
    "version": 3
   },
   "file_extension": ".py",
   "mimetype": "text/x-python",
   "name": "python",
   "nbconvert_exporter": "python",
   "pygments_lexer": "ipython3",
   "version": "3.8.5"
  }
 },
 "nbformat": 4,
 "nbformat_minor": 4
}
